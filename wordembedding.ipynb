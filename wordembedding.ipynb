{
  "cells": [
    {
      "cell_type": "markdown",
      "metadata": {
        "id": "view-in-github",
        "colab_type": "text"
      },
      "source": [
        "<a href=\"https://colab.research.google.com/github/Nobu90/first-repository/blob/main/wordembedding.ipynb\" target=\"_parent\"><img src=\"https://colab.research.google.com/assets/colab-badge.svg\" alt=\"Open In Colab\"/></a>"
      ]
    },
    {
      "cell_type": "markdown",
      "metadata": {
        "id": "5-oWvJWCWiRT"
      },
      "source": [
        "# 루브릭\n",
        "\n",
        "평가문항\t상세기준\n",
        "1. 주어진 영화 코퍼스를 바탕으로 워드임베딩 모델을 정상적으로 만들었다.\n",
        "\n",
        "워드임베딩의 most_similar() 메소드 결과가 의미상 바르게 나왔다.\n",
        "2. 영화 구분, 장르별로 target, attribute에 대한 대표성있는 단어 셋을 생성하였다.\n",
        "\n",
        "타당한 방법론을 통해 중복이 잘 제거되고 개념축을 의미적으로 잘 대표하는 단어 셋이 만들어졌다.\n",
        "3. WEAT score 계산 및 시각화를 정상적으로 진행하였다.\n",
        "\n",
        "전체 영화 장르별로 예술/일반 영화에 대한 편향성 WEAT score가 상식에 부합하는 수치로 얻어졌으며 이를 잘 시각화하였다."
      ]
    },
    {
      "cell_type": "markdown",
      "metadata": {
        "id": "-fKpM7Nbca4C"
      },
      "source": [
        "# 환경 설정"
      ]
    },
    {
      "cell_type": "code",
      "execution_count": null,
      "metadata": {
        "id": "zgUBqXyfFsGF"
      },
      "outputs": [],
      "source": [
        "!pip install --upgrade gensim\n",
        "!pip install konlpy\n",
        "!sudo apt-get install -y fonts-nanum\n",
        "!sudo fc-cache -fv\n",
        "!rm ~/.cache/matplotlib -rf"
      ]
    },
    {
      "cell_type": "code",
      "execution_count": null,
      "metadata": {
        "id": "ZALT_HWQCg_m"
      },
      "outputs": [],
      "source": [
        "from google.colab import drive\n",
        "drive.mount('/content/drive')"
      ]
    },
    {
      "cell_type": "code",
      "execution_count": null,
      "metadata": {
        "id": "equQNgpfA-BX"
      },
      "outputs": [],
      "source": [
        "import konlpy\n",
        "import gensim\n",
        "import sklearn\n",
        "import seaborn\n",
        "from gensim.models import Word2Vec\n",
        "import numpy as np\n",
        "from numpy import dot\n",
        "from numpy.linalg import norm\n",
        "from sklearn.feature_extraction.text import TfidfVectorizer\n",
        "from konlpy.tag import Okt\n",
        "\n",
        "print(konlpy.__version__)\n",
        "print(gensim.__version__)\n",
        "print(sklearn.__version__)\n",
        "print(seaborn.__version__)"
      ]
    },
    {
      "cell_type": "markdown",
      "metadata": {
        "id": "XKqurWJ5cefe"
      },
      "source": [
        "## 데이터 로드"
      ]
    },
    {
      "cell_type": "code",
      "execution_count": 4,
      "metadata": {
        "id": "TPnrJ_duG5Ia",
        "colab": {
          "base_uri": "https://localhost:8080/"
        },
        "outputId": "7a87ac86-763e-41d2-9b5f-97159ad3be77"
      },
      "outputs": [
        {
          "output_type": "stream",
          "name": "stdout",
          "text": [
            "사운드 엔지니어 상우(유지태 분)는 치매에 걸린 할머니(백성희 분)와\n",
            " 젊은 시절 상처한 한 아버지(박인환 분), 고모(신신애 분)와 함께 살고 있다.\n",
            " 어느 겨울 그는 지방 방송국 라디오 PD 은수(이영애 분)를 만난다.\n",
            " 자연의 소리를 채집해 틀어주는 라디오 프로그램을 준비하는 은수는 상우와 녹음 여행을 떠난다.\n",
            " 자연스레 가까워지는 두 사람은 어느 날, 은수의 아파트에서 밤을 보낸다.\n",
            " 너무 쉽게 사랑에 빠진 두 사람... 상우는 주체할 수 없을 정도로 그녀에게 빨려든다.\n",
            " 그러나 겨울에 만난 두 사람의 관계는 봄을 지나 여름을 맞이하면서 삐걱거린다.\n",
            " 이혼 경험이 있는 은수는 상우에게 결혼할 생각이 없다며 부담스러운 표정을 내비친다.\n",
            " \"어떻게 사랑이 변하니?...\"라고 묻는 상우에게 은수는 그저 \"헤어져\" 라고 단호하게 말한다.\n",
            " 영원히 변할 것 같지 않던 사랑이 변하고, 그 사실을 받아들이지 못하는 상우는 어찌 할 바를 모른다.\n",
            " 은수를 잊지 못하는 상우는 미련과 집착의 감정을 이기지 못하고 서울과 강릉을 오간다.\n",
            "유사 이래 연령, 성별, 빈부의 차이와 정치적인 입장을 불문하고 일거에 국민을 통합해 온 '애국심'이라는 성역에 일침을 가하는 다큐멘터리. 재작년 전국 민족민주 유가족협의회의 장기농성을 다룬 인상적인 다큐멘터리 <민들레>를 만들었던 독립영화집단 '빨간 눈사람'이 우리 사회 구석구석을 발빠르게 돌아다니며 애국심과 민족주의가 강요되는 현장을 발굴하여 카메라에 담았다. 박홍 서강대 명예총장, 이도형 '한국논단' 발행인, 축구해설자 신문선, 홍세화, 박노해 등 사회 각계의 '스타'들이 등장해 저마다의 확고한 신념을 성토한다. 감독 이경순과 최하동하는 이 작품을 위해 3년간 백여 명을 인터뷰했다고 한다. 2001 올해의 독립영화상 수상.\n",
            " 민족과 국가란 공동체에서 부단히 권력과 부를 얻는 자, 나아가 민족과 국가란 공동체에서 얻은 신분과 부귀를 영원히 그의 자손에게 대물림하려는 자, 그래서 민족과 국가란 공동체를 부단히 유지해야만 하는 자, 따라서 민족과 국가란 공동체의 당위성과 개인의 가치를 초월하는 그 존엄성을 끝도 없이 창조하고 되뇌어야 하는 자, 종국에는 민족과 국가란 공동체에 속해 있다고 태내에서부터 세뇌된 모든 이들의 삶과 행동에서 영원히 자기복제되는 순환의 고리, 영생하는 애국의 원동력은 그 순환의 골에서 온다.\n",
            "엽기적인 살인사건이 발생한 장소를 관광하는 투어팀. 그 팀에서 관광객들은 살인사건과 관련하여 히스테리컬한 반응을 보이는데 과연 이들의 정체는? (Tourists see whrer a murder take place. They respond hysterically to the murder…what are they?)\n",
            " 제46회 발라돌리드 국제영화제 (2001, 스페인)\n",
            "착하지만 엉뚱한 태희(배두나 분), 예쁜 깍쟁이 혜주(이요원 분), 그림을 잘 그리는 지영(옥지영 분), 명랑한 쌍둥이 비류(이은실 분)와 온조(이은주 분)는 단짝친구들. 늘 함께였던 그들이지만 스무 살이 되면서 길이 달라진다. 증권회사에 입사한 혜주는 성공한 커리어우먼의 야심을 키우고 미술에 재능이 있는 지영은 유학을 꿈꾼다. 한편 태희는 봉사활동에서 알게 된 뇌성마비 시인을 좋아하는데...\n",
            "  어느 날 지영이 길 잃은 새끼 고양이 티티를 만남면서 스무 살 그녀들의 삶에 고양이 한 마리가 끼어들게 된다. 혼자 있길 좋아하고, 쉽게 마음을 열지 않는 신비로운 동물 고양이. 고양이를 닮은 스무 살 그녀들. 고양이 티티와 함께 한 시간동안 삶은 예상못한 방향으로 흘러가지만 마침내 그녀들만의 해결책을 찾게 되는데... 사랑스런 몽상가 태희, 아름다운 야심가 혜주, 신비로운 아웃사이더 지영. 마지막으로 고양이를 부탁받은 사람은 누구일까?\n",
            "인도 등 아시아 식민지에 처음 발을 디딘 뒤 여행하고 “경영”한 이들은 과연 누구였을까? 과거의 이미지들은, 이민과 인종 문제, ‘오리엔탈리즘’이 격렬히 충돌하고 있는 현재와 강력하게 공명한다.\n",
            " [제19회 인디다큐페스티발]\n",
            "홀로 살아가는 미국 할머니와 한국 할머니의 이야기. 공원에서 가끔 마주치게 되는 그들은 비록 언어 소통의 어려움을 겪지만 시간이 흘러감에 따라 서로 가까워져 그들의 외로움과 우정을 공유하게 된다. 겨울이 지나고 봄이 왔을 때 길가의 민들레 홀씨는 삶의 이치를 말해주듯 한 할머니의 주위를 맴돈다. (Two elderly widows, an American and a Korean, frequent the same park in Philadelphia and attempt a friendship, though the Korean widow speaks no English. Driven by loneliness and a spark of hope, they persevere within the limits of body language, and the outcome poses a question of life as fundamental as a flower.)\n"
          ]
        }
      ],
      "source": [
        "with open('/content/drive/MyDrive/deepNLP/data/synopsis.txt', 'r') as file:\n",
        "    for i in range(20):\n",
        "        print(file.readline(), end='')"
      ]
    },
    {
      "cell_type": "markdown",
      "metadata": {
        "id": "xZZyLojJW2Gy"
      },
      "source": [
        "## 품사 태깅 & 명사 추출"
      ]
    },
    {
      "cell_type": "code",
      "execution_count": 5,
      "metadata": {
        "id": "W_LPn6pEK5kO"
      },
      "outputs": [],
      "source": [
        "from konlpy.tag import Okt\n",
        "okt = Okt()\n",
        "tokenized = []\n",
        "with open('/content/drive/MyDrive/deepNLP/data/synopsis.txt', 'r') as file:\n",
        "    while True:\n",
        "        line = file.readline()\n",
        "        if not line: break\n",
        "        words = okt.pos(line, stem=True, norm=True)\n",
        "        res = []\n",
        "        for w in words:\n",
        "            if w[1] in [\"Noun\"]:     \n",
        "                res.append(w[0])   \n",
        "        tokenized.append(res)"
      ]
    },
    {
      "cell_type": "code",
      "execution_count": 6,
      "metadata": {
        "id": "t0eFvYm5LU7S",
        "colab": {
          "base_uri": "https://localhost:8080/"
        },
        "outputId": "30174a7d-5538-4e3c-84ed-c2d4ffbefdb6"
      },
      "outputs": [
        {
          "output_type": "stream",
          "name": "stdout",
          "text": [
            "71156\n"
          ]
        }
      ],
      "source": [
        "print(len(tokenized))"
      ]
    },
    {
      "cell_type": "markdown",
      "metadata": {
        "id": "wVT-LF6pXEl1"
      },
      "source": [
        "## 임베딩 모델 만들기"
      ]
    },
    {
      "cell_type": "code",
      "execution_count": 7,
      "metadata": {
        "id": "kOtARonYLtI6",
        "colab": {
          "base_uri": "https://localhost:8080/"
        },
        "outputId": "a1001462-84a4-4870-b602-aab180aea7c5"
      },
      "outputs": [
        {
          "output_type": "execute_result",
          "data": {
            "text/plain": [
              "[('작품', 0.8903384804725647),\n",
              " ('다큐멘터리', 0.8473365306854248),\n",
              " ('드라마', 0.8184597492218018),\n",
              " ('영화로', 0.7896822094917297),\n",
              " ('코미디', 0.7828602194786072),\n",
              " ('형식', 0.7778703570365906),\n",
              " ('주제', 0.7747239470481873),\n",
              " ('소재', 0.7641893625259399),\n",
              " ('영상', 0.7626078128814697),\n",
              " ('감동', 0.7617948651313782)]"
            ]
          },
          "metadata": {},
          "execution_count": 7
        }
      ],
      "source": [
        "from gensim.models import Word2Vec\n",
        "\n",
        "model = Word2Vec(tokenized, vector_size=100, window=5, min_count=3, sg=0)  \n",
        "model.wv.most_similar(positive=['영화'])"
      ]
    },
    {
      "cell_type": "code",
      "execution_count": 8,
      "metadata": {
        "id": "9ReQ_OR1Xj5y",
        "colab": {
          "base_uri": "https://localhost:8080/"
        },
        "outputId": "10d04f5a-ff68-4aaf-8d8c-7e36b9d10be8"
      },
      "outputs": [
        {
          "output_type": "execute_result",
          "data": {
            "text/plain": [
              "[('토마슈', 0.7126742005348206),\n",
              " ('애정', 0.6933531165122986),\n",
              " ('연애', 0.6866230368614197),\n",
              " ('진심', 0.68390953540802),\n",
              " ('만남', 0.6723315119743347),\n",
              " ('가슴', 0.6717547178268433),\n",
              " ('첫사랑', 0.6705779433250427),\n",
              " ('욕망', 0.6689837574958801),\n",
              " ('감정', 0.6666102409362793),\n",
              " ('행복', 0.6652655601501465)]"
            ]
          },
          "metadata": {},
          "execution_count": 8
        }
      ],
      "source": [
        "model.wv.most_similar(positive=['사랑'])"
      ]
    },
    {
      "cell_type": "code",
      "execution_count": 9,
      "metadata": {
        "id": "fsSnk8n7Xk1T",
        "colab": {
          "base_uri": "https://localhost:8080/"
        },
        "outputId": "6d48f32f-bb2b-433c-afc4-9bc4d19c7776"
      },
      "outputs": [
        {
          "output_type": "execute_result",
          "data": {
            "text/plain": [
              "[('영화감독', 0.9049010872840881),\n",
              " ('영감', 0.8844475746154785),\n",
              " ('시나리오', 0.883412778377533),\n",
              " ('각색', 0.8794510364532471),\n",
              " ('대본', 0.8792127370834351),\n",
              " ('배우', 0.8745916485786438),\n",
              " ('오페라', 0.8708926439285278),\n",
              " ('캐스팅', 0.8606850504875183),\n",
              " ('뮤지컬', 0.8605233430862427),\n",
              " ('엑스트라', 0.8596438765525818)]"
            ]
          },
          "metadata": {},
          "execution_count": 9
        }
      ],
      "source": [
        "model.wv.most_similar(positive=['연극'])"
      ]
    },
    {
      "cell_type": "markdown",
      "metadata": {
        "id": "xmT5ZiwOcsCM"
      },
      "source": [
        "# 영화 구분"
      ]
    },
    {
      "cell_type": "code",
      "execution_count": 10,
      "metadata": {
        "id": "LMld34UgfE39"
      },
      "outputs": [],
      "source": [
        "art_txt = 'synopsis_art.txt'\n",
        "gen_txt = 'synopsis_gen.txt'\n",
        "\n",
        "def read_token(file_name):\n",
        "    okt = Okt()\n",
        "    result = []\n",
        "    with open('/content/drive/MyDrive/deepNLP/data/'+file_name, 'r') as fread: \n",
        "        print(file_name, '파일을 읽고 있습니다.')\n",
        "        while True:\n",
        "            line = fread.readline() \n",
        "            if not line: break \n",
        "            tokenlist = okt.pos(line, stem=True, norm=True) \n",
        "            for word in tokenlist:\n",
        "                if word[1] in [\"Noun\"]:\n",
        "                    result.append((word[0])) \n",
        "    return ' '.join(result)"
      ]
    },
    {
      "cell_type": "code",
      "execution_count": 11,
      "metadata": {
        "id": "QTb68VWdiXos",
        "colab": {
          "base_uri": "https://localhost:8080/"
        },
        "outputId": "740e8c95-89e0-4c8e-9e90-4f2c6012baa4"
      },
      "outputs": [
        {
          "output_type": "stream",
          "name": "stdout",
          "text": [
            "synopsis_art.txt 파일을 읽고 있습니다.\n",
            "synopsis_gen.txt 파일을 읽고 있습니다.\n"
          ]
        }
      ],
      "source": [
        "art = read_token(art_txt)\n",
        "gen = read_token(gen_txt)"
      ]
    },
    {
      "cell_type": "markdown",
      "metadata": {
        "id": "wZPTPmVoaZ-6"
      },
      "source": [
        "## TF-IDF"
      ]
    },
    {
      "cell_type": "code",
      "execution_count": 12,
      "metadata": {
        "id": "kskUzG0gRerY",
        "colab": {
          "base_uri": "https://localhost:8080/"
        },
        "outputId": "0b4fff59-6643-45c0-a939-f7082f2b63e2"
      },
      "outputs": [
        {
          "output_type": "stream",
          "name": "stdout",
          "text": [
            "(2, 41082)\n"
          ]
        }
      ],
      "source": [
        "vectorizer = TfidfVectorizer()\n",
        "X = vectorizer.fit_transform([art, gen])\n",
        "\n",
        "print(X.shape)"
      ]
    },
    {
      "cell_type": "code",
      "execution_count": 13,
      "metadata": {
        "id": "9KPCJa_9RgBL",
        "colab": {
          "base_uri": "https://localhost:8080/"
        },
        "outputId": "ea87c996-712e-4b75-d46b-aaaf58b3dd45"
      },
      "outputs": [
        {
          "output_type": "stream",
          "name": "stdout",
          "text": [
            "23976\n",
            "영화\n"
          ]
        }
      ],
      "source": [
        "print(vectorizer.vocabulary_['영화'])\n",
        "print(vectorizer.get_feature_names_out()[23976])"
      ]
    },
    {
      "cell_type": "markdown",
      "metadata": {
        "id": "_Q0WGaYiapE5"
      },
      "source": [
        "## target, attribute 단어 셋 만들기"
      ]
    },
    {
      "cell_type": "code",
      "execution_count": 14,
      "metadata": {
        "id": "rnQLFsshRh91",
        "colab": {
          "base_uri": "https://localhost:8080/"
        },
        "outputId": "9d0ea622-aa44-478a-f6dd-f7e755e090a6"
      },
      "outputs": [
        {
          "output_type": "stream",
          "name": "stdout",
          "text": [
            "예술영화를 대표하는 단어들:\n",
            "그녀, 자신, 시작, 위해, 사랑, 사람, 영화, 친구, 남자, 가족, 이야기, 마을, 사건, 마음, 세상, 아버지, 아이, 엄마, 모든, 여자, 대한, 서로, 과연, 다시, 시간, 아들, 소녀, 아내, 다른, 사이, 영화제, 세계, 사실, 하나, 점점, 남편, 감독, 여행, 인생, 발견, 모두, 순간, 우리, 가장, 마지막, 생활, 아빠, 모습, 통해, 죽음, 기억, 비밀, 학교, 음악, 한편, 소년, 생각, 도시, 명의, 사고, 결혼, 전쟁, 때문, 위기, 이제, 최고, 이자, 과거, 일상, 경찰, 상황, 간다, 미국, 결심, 운명, 현실, 관계, 지금, 단편, 여인, 하루, 이름, 이후, 준비, 인간, 감정, 만난, 국제, 처음, 충격, 살인, 누구, 동안, 존재, 그린, 어머니, 연인, 계속, 동생, 작품, \n",
            "\n",
            "일반영화를 대표하는 단어들:\n",
            "자신, 그녀, 영화제, 위해, 사람, 시작, 국제, 영화, 친구, 사랑, 남자, 이야기, 대한, 서울, 여자, 사건, 남편, 아이, 가족, 아버지, 다른, 마을, 시간, 엄마, 아들, 모든, 단편, 마음, 사실, 다시, 세계, 모습, 작품, 통해, 생각, 서로, 세상, 발견, 감독, 아내, 관계, 소녀, 사이, 하나, 우리, 애니메이션, 때문, 여성, 죽음, 과연, 점점, 인간, 생활, 한편, 결혼, 상황, 모두, 기억, 명의, 소년, 여행, 가장, 간다, 순간, 이제, 도시, 비밀, 학교, 과거, 가지, 이자, 경찰, 마지막, 미국, 동안, 전쟁, 주인공, 대해, 존재, 현실, 연출, 사고, 살인, 일상, 어머니, 계속, 사회, 인생, 다큐멘터리, 부문, 섹스, 최고, 바로, 동생, 의도, 하루, 위기, 계획, 정체, 한국, "
          ]
        }
      ],
      "source": [
        "m1 = X[0].tocoo()   \n",
        "m2 = X[1].tocoo()   \n",
        "\n",
        "w1 = [[i, j] for i, j in zip(m1.col, m1.data)]\n",
        "w2 = [[i, j] for i, j in zip(m2.col, m2.data)]\n",
        "\n",
        "w1.sort(key=lambda x: x[1], reverse=True)   \n",
        "w2.sort(key=lambda x: x[1], reverse=True)   \n",
        "\n",
        "print('예술영화를 대표하는 단어들:')\n",
        "for i in range(100):\n",
        "    print(vectorizer.get_feature_names_out()[w1[i][0]], end=', ')\n",
        "\n",
        "print('\\n')\n",
        "    \n",
        "print('일반영화를 대표하는 단어들:')\n",
        "for i in range(100):\n",
        "    print(vectorizer.get_feature_names_out()[w2[i][0]], end=', ')"
      ]
    },
    {
      "cell_type": "code",
      "execution_count": 17,
      "metadata": {
        "id": "P7cdRLeJRhye"
      },
      "outputs": [],
      "source": [
        "n = 15\n",
        "w1_, w2_ = [], []\n",
        "for i in range(100):\n",
        "    w1_.append(vectorizer.get_feature_names_out()[w1[i][0]])\n",
        "    w2_.append(vectorizer.get_feature_names_out()[w2[i][0]])\n",
        "\n",
        "target_art, target_gen = [], []\n",
        "for i in range(100):\n",
        "    if (w1_[i] not in w2_) and (w1_[i] in model.wv): target_art.append(w1_[i])\n",
        "    if len(target_art) == n: break \n",
        ".\n",
        "for i in range(100):\n",
        "    if (w2_[i] not in w1_) and (w2_[i] in model.wv): target_gen.append(w2_[i])\n",
        "    if len(target_gen) == n: break"
      ]
    },
    {
      "cell_type": "code",
      "execution_count": 18,
      "metadata": {
        "id": "CN4Ituc2RmzG",
        "colab": {
          "base_uri": "https://localhost:8080/"
        },
        "outputId": "3f90c8bb-5b8e-42d7-af0a-d1daee7e0e7a"
      },
      "outputs": [
        {
          "output_type": "stream",
          "name": "stdout",
          "text": [
            "['아빠', '음악', '결심', '운명', '지금', '여인', '이름', '이후', '준비', '감정', '만난', '처음', '충격', '누구', '그린']\n"
          ]
        }
      ],
      "source": [
        "print(target_art)"
      ]
    },
    {
      "cell_type": "code",
      "execution_count": 19,
      "metadata": {
        "id": "YHWOQmBSRoGx",
        "colab": {
          "base_uri": "https://localhost:8080/"
        },
        "outputId": "884eab96-42d0-4056-909a-c5e9fb28c9ef"
      },
      "outputs": [
        {
          "output_type": "stream",
          "name": "stdout",
          "text": [
            "['서울', '애니메이션', '여성', '가지', '주인공', '대해', '연출', '사회', '다큐멘터리', '부문', '섹스', '바로', '의도', '계획', '정체']\n"
          ]
        }
      ],
      "source": [
        "print(target_gen)"
      ]
    },
    {
      "cell_type": "markdown",
      "metadata": {
        "id": "lWmLv_shbR3c"
      },
      "source": [
        "# 장르 구분"
      ]
    },
    {
      "cell_type": "code",
      "execution_count": 20,
      "metadata": {
        "id": "j1OzS82aRqNM"
      },
      "outputs": [],
      "source": [
        "genre_txt = ['synopsis_SF.txt', 'synopsis_family.txt', 'synopsis_show.txt', 'synopsis_horror.txt', 'synopsis_etc.txt', \n",
        "             'synopsis_documentary.txt', 'synopsis_drama.txt', 'synopsis_romance.txt', 'synopsis_musical.txt', \n",
        "             'synopsis_mystery.txt', 'synopsis_crime.txt', 'synopsis_historical.txt', 'synopsis_western.txt', \n",
        "             'synopsis_adult.txt', 'synopsis_thriller.txt', 'synopsis_animation.txt', 'synopsis_action.txt', \n",
        "             'synopsis_adventure.txt', 'synopsis_war.txt', 'synopsis_comedy.txt', 'synopsis_fantasy.txt']\n",
        "genre_name = ['SF', '가족', '공연', '공포(호러)', '기타', '다큐멘터리', '드라마', '멜로로맨스', '뮤지컬', '미스터리', '범죄', '사극', '서부극(웨스턴)',\n",
        "         '성인물(에로)', '스릴러', '애니메이션', '액션', '어드벤처', '전쟁', '코미디', '판타지']"
      ]
    },
    {
      "cell_type": "code",
      "execution_count": 21,
      "metadata": {
        "id": "N5IJdt9ERsa5",
        "colab": {
          "base_uri": "https://localhost:8080/"
        },
        "outputId": "59330f12-d1f2-4e6b-9b6a-fec4b77ac706"
      },
      "outputs": [
        {
          "output_type": "stream",
          "name": "stdout",
          "text": [
            "synopsis_SF.txt 파일을 읽고 있습니다.\n",
            "synopsis_family.txt 파일을 읽고 있습니다.\n",
            "synopsis_show.txt 파일을 읽고 있습니다.\n",
            "synopsis_horror.txt 파일을 읽고 있습니다.\n",
            "synopsis_etc.txt 파일을 읽고 있습니다.\n",
            "synopsis_documentary.txt 파일을 읽고 있습니다.\n",
            "synopsis_drama.txt 파일을 읽고 있습니다.\n",
            "synopsis_romance.txt 파일을 읽고 있습니다.\n",
            "synopsis_musical.txt 파일을 읽고 있습니다.\n",
            "synopsis_mystery.txt 파일을 읽고 있습니다.\n",
            "synopsis_crime.txt 파일을 읽고 있습니다.\n",
            "synopsis_historical.txt 파일을 읽고 있습니다.\n",
            "synopsis_western.txt 파일을 읽고 있습니다.\n",
            "synopsis_adult.txt 파일을 읽고 있습니다.\n",
            "synopsis_thriller.txt 파일을 읽고 있습니다.\n",
            "synopsis_animation.txt 파일을 읽고 있습니다.\n",
            "synopsis_action.txt 파일을 읽고 있습니다.\n",
            "synopsis_adventure.txt 파일을 읽고 있습니다.\n",
            "synopsis_war.txt 파일을 읽고 있습니다.\n",
            "synopsis_comedy.txt 파일을 읽고 있습니다.\n",
            "synopsis_fantasy.txt 파일을 읽고 있습니다.\n"
          ]
        }
      ],
      "source": [
        "genre = []\n",
        "for file_name in genre_txt:\n",
        "    genre.append(read_token(file_name))"
      ]
    },
    {
      "cell_type": "markdown",
      "metadata": {
        "id": "FO_2ovoJbVOe"
      },
      "source": [
        "## TF-IDF"
      ]
    },
    {
      "cell_type": "code",
      "execution_count": 22,
      "metadata": {
        "id": "ENtQelGSRvEd",
        "colab": {
          "base_uri": "https://localhost:8080/"
        },
        "outputId": "f0e01b84-5c18-492c-b95c-9354cd0745d2"
      },
      "outputs": [
        {
          "output_type": "stream",
          "name": "stdout",
          "text": [
            "(21, 42191)\n"
          ]
        }
      ],
      "source": [
        "vectorizer = TfidfVectorizer()\n",
        "X = vectorizer.fit_transform(genre)\n",
        "\n",
        "print(X.shape)"
      ]
    },
    {
      "cell_type": "markdown",
      "metadata": {
        "id": "Ca070Balbf6J"
      },
      "source": [
        "## target, attribute 단어 셋 만들기"
      ]
    },
    {
      "cell_type": "code",
      "execution_count": 28,
      "metadata": {
        "id": "cQECpyo0VxRl",
        "colab": {
          "base_uri": "https://localhost:8080/"
        },
        "outputId": "0b1fc1c1-9135-4b49-875b-0b3e1ac52d4b"
      },
      "outputs": [
        {
          "output_type": "stream",
          "name": "stdout",
          "text": [
            "SF: 위해, 자신, 지구, 시작, 사람, 인류, 인간, 미래, 우주, 그녀, 로봇, 세계, 모든, 박사, 우주선, \n",
            "가족: 엄마, 아빠, 가족, 영화제, 자신, 위해, 친구, 아주르, 아버지, 시작, 그녀, 아들, 마을, 국제, 낙타, \n",
            "공연: 오페라, 사랑, 토스카, 실황, 올레, 자신, 카바, 그녀, 공연, 오텔로, 리골레토, 백작, 프레, 베르디, 위해, \n",
            "공포(호러): 시작, 위해, 사람, 자신, 친구, 그녀, 사건, 공포, 발견, 죽음, 마을, 가족, 악령, 남자, 좀비, \n",
            "기타: 영화제, 국제, 서울, 단편, 영화, 자신, 사람, 이야기, 그녀, 남자, 위해, 시작, 사랑, 뉴미디어, 페스티벌, \n",
            "다큐멘터리: 영화제, 영화, 다큐, 국제, 다큐멘터리, 사람, 이야기, 대한, 자신, 감독, 위해, 서울, 우리, 시작, 세계, \n",
            "드라마: 자신, 영화제, 그녀, 사람, 사랑, 영화, 위해, 시작, 국제, 남자, 친구, 이야기, 엄마, 여자, 아버지, \n",
            "멜로로맨스: 그녀, 사랑, 자신, 시작, 남편, 남자, 여자, 사람, 친구, 섹스, 위해, 마음, 결혼, 서로, 아내, \n",
            "뮤지컬: 뮤지컬, 사랑, 에스메랄다, 그녀, 음악, 충무로, 모차르트, 영화, 토스카, 자신, 니웨, 카바, 영화제, 바흐, 페뷔스, \n",
            "미스터리: 사건, 그녀, 시작, 자신, 위해, 사람, 발견, 사고, 진실, 죽음, 기억, 살인, 친구, 아내, 남자, \n",
            "범죄: 사건, 위해, 자신, 경찰, 시작, 그녀, 범죄, 조직, 살인, 사람, 마약, 형사, 남자, 모든, 살해, \n",
            "사극: 조선, 위해, 시작, 신기전, 사랑, 자신, 아가멤논, 황제, 그녀, 루안, 최고, 운명, 사람, 하선, 전쟁, \n",
            "서부극(웨스턴): 서부, 보안관, 위해, 벌린, 카우보이, 그레이프바인, 헨리, 마을, 자신, 개릿, 아이, 시작, 무법자, 프린트, 마적, \n",
            "성인물(에로): 그녀, 남편, 마사지, 자신, 섹스, 관계, 영화, 정사, 남자, 위해, 시작, 여자, 유부녀, 마음, 사랑, \n",
            "스릴러: 자신, 그녀, 사건, 시작, 위해, 사람, 살인, 남자, 발견, 아내, 경찰, 친구, 모든, 사실, 살해, \n",
            "애니메이션: 애니메이션, 국제, 영화제, 친구, 인디애니페스트, 위해, 자신, 시작, 사람, 페스티벌, 서울, 이야기, 아이, 마을, 소녀, \n",
            "액션: 위해, 자신, 시작, 조직, 사건, 사람, 그녀, 경찰, 전쟁, 모든, 목숨, 사실, 친구, 가족, 요원, \n",
            "어드벤처: 위해, 자신, 시작, 친구, 마을, 아버지, 영화, 아이, 사람, 여행, 세계, 앤트, 세상, 가족, 모험, \n",
            "전쟁: 전쟁, 독일군, 전투, 위해, 작전, 시작, 부대, 윈터스, 독일, 연합군, 미군, 임무, 자신, 사람, 나치, \n",
            "코미디: 그녀, 자신, 시작, 위해, 사랑, 사람, 친구, 영화, 남자, 여자, 영화제, 가족, 과연, 마을, 사건, \n",
            "판타지: 자신, 그녀, 시작, 위해, 사람, 사랑, 요괴, 영화제, 이야기, 영화, 소녀, 남자, 인간, 세상, 마을, \n"
          ]
        }
      ],
      "source": [
        "m = [X[i].tocoo() for i in range(X.shape[0])]\n",
        "\n",
        "w = [[[i, j] for i, j in zip(mm.col, mm.data)] for mm in m]\n",
        "\n",
        "for i in range(len(w)):\n",
        "    w[i].sort(key=lambda x: x[1], reverse=True)\n",
        "attributes = []\n",
        "for i in range(len(w)):\n",
        "    print(genre_name[i], end=': ')\n",
        "    attr = []\n",
        "    j = 0\n",
        "    while (len(attr) < 15):\n",
        "        if vectorizer.get_feature_names_out()[w[i][j][0]] in model.wv:\n",
        "            attr.append(vectorizer.get_feature_names_out()[w[i][j][0]])\n",
        "            print(vectorizer.get_feature_names_out()[w[i][j][0]], end=', ')\n",
        "        j += 1\n",
        "    attributes.append(attr)\n",
        "    print()"
      ]
    },
    {
      "cell_type": "code",
      "execution_count": 29,
      "metadata": {
        "id": "tr9U_vODVzhR"
      },
      "outputs": [],
      "source": [
        "matrix = [[0 for _ in range(len(genre_name))] for _ in range(len(genre_name))]"
      ]
    },
    {
      "cell_type": "markdown",
      "metadata": {
        "id": "Uh29emBLayM7"
      },
      "source": [
        "# WEAT score 함수 정의"
      ]
    },
    {
      "cell_type": "code",
      "execution_count": 30,
      "metadata": {
        "id": "wrCzkcpDKg5J"
      },
      "outputs": [],
      "source": [
        "def cos_sim(i, j):\n",
        "    return dot(i, j.T)/(norm(i)*norm(j))"
      ]
    },
    {
      "cell_type": "code",
      "execution_count": 31,
      "metadata": {
        "id": "ebrqXdSrKdkG"
      },
      "outputs": [],
      "source": [
        "def s(w, A, B):\n",
        "    c_a = cos_sim(w, A)\n",
        "    c_b = cos_sim(w, B)\n",
        "    mean_A = np.mean(c_a, axis=-1)\n",
        "    mean_B = np.mean(c_b, axis=-1)\n",
        "    return mean_A - mean_B"
      ]
    },
    {
      "cell_type": "code",
      "execution_count": 32,
      "metadata": {
        "id": "_unUwDMTKZ1_"
      },
      "outputs": [],
      "source": [
        "def weat_score(X, Y, A, B):\n",
        "    \n",
        "    s_X = s(X, A, B)\n",
        "    s_Y = s(Y, A, B)\n",
        "\n",
        "    mean_X = np.mean(s_X)\n",
        "    mean_Y = np.mean(s_Y)\n",
        "    \n",
        "    std_dev = np.std(np.concatenate([s_X, s_Y], axis=0))\n",
        "    \n",
        "    return  (mean_X-mean_Y)/std_dev"
      ]
    },
    {
      "cell_type": "code",
      "execution_count": 33,
      "metadata": {
        "id": "-OgamNXvV1vC"
      },
      "outputs": [],
      "source": [
        "X = np.array([model.wv[word] for word in target_art])\n",
        "Y = np.array([model.wv[word] for word in target_gen])\n",
        "\n",
        "for i in range(len(genre_name)-1):\n",
        "    for j in range(i+1, len(genre_name)):\n",
        "        A = np.array([model.wv[word] for word in attributes[i]])\n",
        "        B = np.array([model.wv[word] for word in attributes[j]])\n",
        "        matrix[i][j] = weat_score(X, Y, A, B)"
      ]
    },
    {
      "cell_type": "code",
      "execution_count": 34,
      "metadata": {
        "id": "z7p0fdOmV4L8",
        "colab": {
          "base_uri": "https://localhost:8080/"
        },
        "outputId": "dd68ae67-fd32-4005-df8f-7a65dd254a7f"
      },
      "outputs": [
        {
          "output_type": "stream",
          "name": "stdout",
          "text": [
            "SF 가족 -0.55156267\n",
            "SF 공연 -0.37751934\n",
            "SF 공포(호러) -0.6867706\n",
            "SF 기타 0.34230217\n",
            "SF 다큐멘터리 0.5944507\n",
            "SF 드라마 -0.39351666\n",
            "SF 멜로로맨스 -0.7975677\n",
            "SF 뮤지컬 0.31429344\n",
            "SF 미스터리 -0.68664926\n",
            "SF 범죄 -0.21956034\n",
            "SF 사극 -0.86635303\n",
            "SF 서부극(웨스턴) -0.42710987\n",
            "SF 성인물(에로) -0.5581679\n",
            "SF 스릴러 -0.5168163\n",
            "SF 애니메이션 0.34488872\n",
            "SF 액션 -0.47810793\n",
            "SF 어드벤처 -0.8274019\n",
            "SF 전쟁 0.23965377\n",
            "SF 코미디 -0.46892107\n",
            "SF 판타지 -0.2302108\n",
            "가족 공연 0.26294574\n",
            "가족 공포(호러) -0.11623761\n",
            "가족 기타 0.78430957\n",
            "가족 다큐멘터리 0.85807556\n",
            "가족 드라마 0.2644664\n",
            "가족 멜로로맨스 -0.59708977\n",
            "가족 뮤지컬 0.7121727\n",
            "가족 미스터리 -0.2574627\n",
            "가족 범죄 0.27025786\n",
            "가족 사극 -0.029483113\n",
            "가족 서부극(웨스턴) 0.51478964\n",
            "가족 성인물(에로) -0.2632664\n",
            "가족 스릴러 -0.08248769\n",
            "가족 애니메이션 0.8868159\n",
            "가족 액션 0.14629519\n",
            "가족 어드벤처 0.01861627\n",
            "가족 전쟁 0.7040028\n",
            "가족 코미디 0.2461843\n",
            "가족 판타지 0.44667116\n",
            "공연 공포(호러) -0.2581533\n",
            "공연 기타 0.93930346\n",
            "공연 다큐멘터리 0.9285466\n",
            "공연 드라마 -0.03972627\n",
            "공연 멜로로맨스 -0.7302019\n",
            "공연 뮤지컬 0.859007\n",
            "공연 미스터리 -0.35690644\n",
            "공연 범죄 0.092189796\n",
            "공연 사극 -0.3814827\n",
            "공연 서부극(웨스턴) 0.046459876\n",
            "공연 성인물(에로) -0.47847298\n",
            "공연 스릴러 -0.21327603\n",
            "공연 애니메이션 0.9145478\n",
            "공연 액션 -0.045387313\n",
            "공연 어드벤처 -0.24835502\n",
            "공연 전쟁 0.60472184\n",
            "공연 코미디 -0.03933359\n",
            "공연 판타지 0.29335582\n",
            "공포(호러) 기타 0.6460367\n",
            "공포(호러) 다큐멘터리 0.7520782\n",
            "공포(호러) 드라마 0.29287964\n",
            "공포(호러) 멜로로맨스 -0.62603307\n",
            "공포(호러) 뮤지컬 0.6050977\n",
            "공포(호러) 미스터리 -0.533663\n",
            "공포(호러) 범죄 0.69788873\n",
            "공포(호러) 사극 0.11172957\n",
            "공포(호러) 서부극(웨스턴) 0.4319888\n",
            "공포(호러) 성인물(에로) -0.1956395\n",
            "공포(호러) 스릴러 0.040770147\n",
            "공포(호러) 애니메이션 0.6597083\n",
            "공포(호러) 액션 0.5368049\n",
            "공포(호러) 어드벤처 0.15770216\n",
            "공포(호러) 전쟁 0.6816525\n",
            "공포(호러) 코미디 0.41278905\n",
            "공포(호러) 판타지 0.50567067\n",
            "기타 다큐멘터리 0.58052063\n",
            "기타 드라마 -0.9152653\n",
            "기타 멜로로맨스 -0.9065526\n",
            "기타 뮤지컬 -0.13035052\n",
            "기타 미스터리 -0.66151536\n",
            "기타 범죄 -0.37687328\n",
            "기타 사극 -0.82845116\n",
            "기타 서부극(웨스턴) -0.62095904\n",
            "기타 성인물(에로) -0.82048815\n",
            "기타 스릴러 -0.5634595\n",
            "기타 애니메이션 -0.10757407\n",
            "기타 액션 -0.4895015\n",
            "기타 어드벤처 -0.81263846\n",
            "기타 전쟁 -0.2206167\n",
            "기타 코미디 -0.7580838\n",
            "기타 판타지 -0.72403663\n",
            "다큐멘터리 드라마 -0.9325201\n",
            "다큐멘터리 멜로로맨스 -0.90727115\n",
            "다큐멘터리 뮤지컬 -0.77620053\n",
            "다큐멘터리 미스터리 -0.7526887\n",
            "다큐멘터리 범죄 -0.50056005\n",
            "다큐멘터리 사극 -0.914756\n",
            "다큐멘터리 서부극(웨스턴) -0.7310585\n",
            "다큐멘터리 성인물(에로) -0.83097494\n",
            "다큐멘터리 스릴러 -0.65350574\n",
            "다큐멘터리 애니메이션 -0.5636842\n",
            "다큐멘터리 액션 -0.6171454\n",
            "다큐멘터리 어드벤처 -0.9592499\n",
            "다큐멘터리 전쟁 -0.44072124\n",
            "다큐멘터리 코미디 -0.84060544\n",
            "다큐멘터리 판타지 -0.9129852\n",
            "드라마 멜로로맨스 -0.83488905\n",
            "드라마 뮤지컬 0.8215518\n",
            "드라마 미스터리 -0.39807957\n",
            "드라마 범죄 0.11180125\n",
            "드라마 사극 -0.32164028\n",
            "드라마 서부극(웨스턴) 0.07287641\n",
            "드라마 성인물(에로) -0.54671335\n",
            "드라마 스릴러 -0.22312412\n",
            "드라마 애니메이션 0.9048378\n",
            "드라마 액션 -0.030678052\n",
            "드라마 어드벤처 -0.28843772\n",
            "드라마 전쟁 0.5044332\n",
            "드라마 코미디 -0.015173958\n",
            "드라마 판타지 0.5091505\n",
            "멜로로맨스 뮤지컬 0.8620653\n",
            "멜로로맨스 미스터리 0.47314352\n",
            "멜로로맨스 범죄 0.8743134\n",
            "멜로로맨스 사극 0.6513798\n",
            "멜로로맨스 서부극(웨스턴) 0.7641767\n",
            "멜로로맨스 성인물(에로) 0.86899704\n",
            "멜로로맨스 스릴러 0.68620557\n",
            "멜로로맨스 애니메이션 0.8852991\n",
            "멜로로맨스 액션 0.74451023\n",
            "멜로로맨스 어드벤처 0.59883314\n",
            "멜로로맨스 전쟁 0.825265\n",
            "멜로로맨스 코미디 0.901793\n",
            "멜로로맨스 판타지 0.832737\n",
            "뮤지컬 미스터리 -0.627349\n",
            "뮤지컬 범죄 -0.3415928\n",
            "뮤지컬 사극 -0.78162473\n",
            "뮤지컬 서부극(웨스턴) -0.55386424\n",
            "뮤지컬 성인물(에로) -0.7741696\n",
            "뮤지컬 스릴러 -0.5261892\n",
            "뮤지컬 애니메이션 -0.0022514453\n",
            "뮤지컬 액션 -0.454453\n",
            "뮤지컬 어드벤처 -0.7714231\n",
            "뮤지컬 전쟁 -0.1784715\n",
            "뮤지컬 코미디 -0.68667686\n",
            "뮤지컬 판타지 -0.6691379\n",
            "미스터리 범죄 1.0257057\n",
            "미스터리 사극 0.2725037\n",
            "미스터리 서부극(웨스턴) 0.5114093\n",
            "미스터리 성인물(에로) -0.032121964\n",
            "미스터리 스릴러 0.7204003\n",
            "미스터리 애니메이션 0.66550887\n",
            "미스터리 액션 0.75969404\n",
            "미스터리 어드벤처 0.29582867\n",
            "미스터리 전쟁 0.69801533\n",
            "미스터리 코미디 0.5102368\n",
            "미스터리 판타지 0.5469202\n",
            "범죄 사극 -0.34330758\n",
            "범죄 서부극(웨스턴) -0.09859588\n",
            "범죄 성인물(에로) -0.496546\n",
            "범죄 스릴러 -1.0001935\n",
            "범죄 애니메이션 0.37025243\n",
            "범죄 액션 -0.44180608\n",
            "범죄 어드벤처 -0.26434264\n",
            "범죄 전쟁 0.3772767\n",
            "범죄 코미디 -0.14795439\n",
            "범죄 판타지 0.05873132\n",
            "사극 서부극(웨스턴) 0.43883634\n",
            "사극 성인물(에로) -0.28952655\n",
            "사극 스릴러 -0.06916269\n",
            "사극 애니메이션 0.8289935\n",
            "사극 액션 0.2112475\n",
            "사극 어드벤처 0.06709788\n",
            "사극 전쟁 0.91189843\n",
            "사극 코미디 0.42118192\n",
            "사극 판타지 0.6450831\n",
            "서부극(웨스턴) 성인물(에로) -0.43632165\n",
            "서부극(웨스턴) 스릴러 -0.33126155\n",
            "서부극(웨스턴) 애니메이션 0.6802241\n",
            "서부극(웨스턴) 액션 -0.11802033\n",
            "서부극(웨스턴) 어드벤처 -0.40678084\n",
            "서부극(웨스턴) 전쟁 0.705185\n",
            "서부극(웨스턴) 코미디 -0.09688958\n",
            "서부극(웨스턴) 판타지 0.2079489\n",
            "성인물(에로) 스릴러 0.21367964\n",
            "성인물(에로) 애니메이션 0.7635384\n",
            "성인물(에로) 액션 0.35980904\n",
            "성인물(에로) 어드벤처 0.27277362\n",
            "성인물(에로) 전쟁 0.6195452\n",
            "성인물(에로) 코미디 0.5523627\n",
            "성인물(에로) 판타지 0.6049115\n",
            "스릴러 애니메이션 0.56588304\n",
            "스릴러 액션 0.470096\n",
            "스릴러 어드벤처 0.0944882\n",
            "스릴러 전쟁 0.5969931\n",
            "스릴러 코미디 0.28174755\n",
            "스릴러 판타지 0.3690775\n",
            "애니메이션 액션 -0.49787042\n",
            "애니메이션 어드벤처 -0.88598055\n",
            "애니메이션 전쟁 -0.21009903\n",
            "애니메이션 코미디 -0.7562839\n",
            "애니메이션 판타지 -0.71158034\n",
            "액션 어드벤처 -0.14787735\n",
            "액션 전쟁 0.5905812\n",
            "액션 코미디 0.03454415\n",
            "액션 판타지 0.21771532\n",
            "어드벤처 전쟁 0.7341223\n",
            "어드벤처 코미디 0.33608758\n",
            "어드벤처 판타지 0.7256303\n",
            "전쟁 코미디 -0.5585089\n",
            "전쟁 판타지 -0.33034906\n",
            "코미디 판타지 0.50506306\n"
          ]
        }
      ],
      "source": [
        "for i in range(len(genre_name)-1):\n",
        "    for j in range(i+1, len(genre_name)):\n",
        "        print(genre_name[i], genre_name[j],matrix[i][j])"
      ]
    },
    {
      "cell_type": "markdown",
      "metadata": {
        "id": "IbSbMs8Wa5UU"
      },
      "source": [
        "# 결과 시각화"
      ]
    },
    {
      "cell_type": "code",
      "execution_count": 36,
      "metadata": {
        "id": "pXuDBfr_V8Hi",
        "colab": {
          "base_uri": "https://localhost:8080/",
          "height": 616
        },
        "outputId": "d4eb972d-bfc3-4046-a00d-aa2cd1b3d2ab"
      },
      "outputs": [
        {
          "output_type": "stream",
          "name": "stderr",
          "text": [
            "WARNING:matplotlib.font_manager:findfont: Font family ['Malgun Gothic'] not found. Falling back to DejaVu Sans.\n"
          ]
        },
        {
          "output_type": "execute_result",
          "data": {
            "text/plain": [
              "<AxesSubplot:>"
            ]
          },
          "metadata": {},
          "execution_count": 36
        },
        {
          "output_type": "stream",
          "name": "stderr",
          "text": [
            "WARNING:matplotlib.font_manager:findfont: Font family ['Malgun Gothic'] not found. Falling back to DejaVu Sans.\n"
          ]
        },
        {
          "output_type": "display_data",
          "data": {
            "text/plain": [
              "<Figure size 1440x720 with 2 Axes>"
            ],
            "image/png": "[encoded data removed]"
          },
          "metadata": {}
        }
      ],
      "source": [
        "import numpy as np; \n",
        "import seaborn as sns; \n",
        "import matplotlib.pyplot as plt\n",
        "\n",
        "np.random.seed(0)\n",
        "\n",
        "\n",
        "sns.set(font=\"Malgun Gothic\", \n",
        "        rc={\"axes.unicode_minus\":False},\n",
        "        style='darkgrid')\n",
        "\n",
        "plt.rcParams['axes.unicode_minus'] = False\n",
        "\n",
        "plt.figure(figsize=(20, 10))\n",
        "\n",
        "ax = sns.heatmap(matrix, xticklabels=genre_name, yticklabels=genre_name, annot=True,  cmap='RdYlGn_r')\n",
        "ax"
      ]
    }
  ],
  "metadata": {
    "colab": {
      "toc_visible": true,
      "provenance": [],
      "authorship_tag": "ABX9TyNQVURFSTv0Y0t9ywEIy+7f",
      "include_colab_link": true
    },
    "kernelspec": {
      "display_name": "Python 3",
      "name": "python3"
    },
    "language_info": {
      "name": "python"
    }
  },
  "nbformat": 4,
  "nbformat_minor": 0
}